{
 "cells": [
  {
   "cell_type": "code",
   "execution_count": 1,
   "metadata": {},
   "outputs": [
    {
     "data": {
      "text/plain": [
       "[[0, 0, 0], [0, 0, 0], [0, 0, 0], [0, 0, 0]]"
      ]
     },
     "execution_count": 1,
     "metadata": {},
     "output_type": "execute_result"
    }
   ],
   "source": [
    "m = 4\n",
    "n = 3\n",
    "\n",
    "[[0]*n for i in range(0, m)]"
   ]
  },
  {
   "cell_type": "code",
   "execution_count": 4,
   "metadata": {},
   "outputs": [
    {
     "data": {
      "text/plain": [
       "[8, 9, 6]"
      ]
     },
     "execution_count": 4,
     "metadata": {},
     "output_type": "execute_result"
    }
   ],
   "source": [
    "#단일 줄 입력\n",
    "list(map(int, input().split()))"
   ]
  },
  {
   "cell_type": "code",
   "execution_count": 1,
   "metadata": {},
   "outputs": [],
   "source": [
    "#다중 줄 입력 : 여러 줄 한번에 입력받기\n",
    "import sys\n",
    "readfnc = sys.stdin.readline\n",
    "list(map(int, readfnc.rstrip())) #rstrip() : 공백 문자 enter 제거"
   ]
  },
  {
   "cell_type": "code",
   "execution_count": 4,
   "metadata": {},
   "outputs": [
    {
     "name": "stdout",
     "output_type": "stream",
     "text": [
      "\u001b[1;31mSignature:\u001b[0m \u001b[0msys\u001b[0m\u001b[1;33m.\u001b[0m\u001b[0mstdin\u001b[0m\u001b[1;33m.\u001b[0m\u001b[0mreadline\u001b[0m\u001b[1;33m(\u001b[0m\u001b[0msize\u001b[0m\u001b[1;33m=\u001b[0m\u001b[1;33m-\u001b[0m\u001b[1;36m1\u001b[0m\u001b[1;33m,\u001b[0m \u001b[1;33m/\u001b[0m\u001b[1;33m)\u001b[0m\u001b[1;33m\u001b[0m\u001b[1;33m\u001b[0m\u001b[0m\n",
      "\u001b[1;31mDocstring:\u001b[0m\n",
      "Read until newline or EOF.\n",
      "\n",
      "Return an empty string if EOF is hit immediately.\n",
      "If size is specified, at most size characters will be read.\n",
      "\u001b[1;31mType:\u001b[0m      builtin_function_or_method"
     ]
    }
   ],
   "source": [
    "?sys.stdin.readline"
   ]
  },
  {
   "cell_type": "code",
   "execution_count": 5,
   "metadata": {},
   "outputs": [
    {
     "data": {
      "text/plain": [
       "16384"
      ]
     },
     "execution_count": 5,
     "metadata": {},
     "output_type": "execute_result"
    }
   ],
   "source": [
    "#문자열 수식화\n",
    "eval('4**7')"
   ]
  },
  {
   "cell_type": "code",
   "execution_count": 7,
   "metadata": {},
   "outputs": [
    {
     "data": {
      "text/plain": [
       "[8, 6, 5, 3, 1]"
      ]
     },
     "execution_count": 7,
     "metadata": {},
     "output_type": "execute_result"
    }
   ],
   "source": [
    "#정렬\n",
    "sorted([1, 3, 5, 8, 6], reverse=True)"
   ]
  },
  {
   "cell_type": "code",
   "execution_count": 8,
   "metadata": {},
   "outputs": [
    {
     "data": {
      "text/plain": [
       "[(11, 2), (4, 3), (1, 4), (6, 8)]"
      ]
     },
     "execution_count": 8,
     "metadata": {},
     "output_type": "execute_result"
    }
   ],
   "source": [
    "sorted([(1, 4), (4, 3), (11, 2), (6, 8)], key = lambda x : x[1])"
   ]
  },
  {
   "cell_type": "markdown",
   "metadata": {},
   "source": [
    "### itertools"
   ]
  },
  {
   "cell_type": "code",
   "execution_count": 1,
   "metadata": {},
   "outputs": [],
   "source": [
    "from itertools import permutations, combinations, product, combinations_with_replacement\n",
    "iterlist = [x for x in range(0, 10) if x%2 == 1]"
   ]
  },
  {
   "cell_type": "code",
   "execution_count": 3,
   "metadata": {},
   "outputs": [
    {
     "data": {
      "text/plain": [
       "[(1, 3, 5),\n",
       " (1, 3, 7),\n",
       " (1, 3, 9),\n",
       " (1, 5, 3),\n",
       " (1, 5, 7),\n",
       " (1, 5, 9),\n",
       " (1, 7, 3),\n",
       " (1, 7, 5),\n",
       " (1, 7, 9),\n",
       " (1, 9, 3),\n",
       " (1, 9, 5),\n",
       " (1, 9, 7),\n",
       " (3, 1, 5),\n",
       " (3, 1, 7),\n",
       " (3, 1, 9),\n",
       " (3, 5, 1),\n",
       " (3, 5, 7),\n",
       " (3, 5, 9),\n",
       " (3, 7, 1),\n",
       " (3, 7, 5),\n",
       " (3, 7, 9),\n",
       " (3, 9, 1),\n",
       " (3, 9, 5),\n",
       " (3, 9, 7),\n",
       " (5, 1, 3),\n",
       " (5, 1, 7),\n",
       " (5, 1, 9),\n",
       " (5, 3, 1),\n",
       " (5, 3, 7),\n",
       " (5, 3, 9),\n",
       " (5, 7, 1),\n",
       " (5, 7, 3),\n",
       " (5, 7, 9),\n",
       " (5, 9, 1),\n",
       " (5, 9, 3),\n",
       " (5, 9, 7),\n",
       " (7, 1, 3),\n",
       " (7, 1, 5),\n",
       " (7, 1, 9),\n",
       " (7, 3, 1),\n",
       " (7, 3, 5),\n",
       " (7, 3, 9),\n",
       " (7, 5, 1),\n",
       " (7, 5, 3),\n",
       " (7, 5, 9),\n",
       " (7, 9, 1),\n",
       " (7, 9, 3),\n",
       " (7, 9, 5),\n",
       " (9, 1, 3),\n",
       " (9, 1, 5),\n",
       " (9, 1, 7),\n",
       " (9, 3, 1),\n",
       " (9, 3, 5),\n",
       " (9, 3, 7),\n",
       " (9, 5, 1),\n",
       " (9, 5, 3),\n",
       " (9, 5, 7),\n",
       " (9, 7, 1),\n",
       " (9, 7, 3),\n",
       " (9, 7, 5)]"
      ]
     },
     "execution_count": 3,
     "metadata": {},
     "output_type": "execute_result"
    }
   ],
   "source": [
    "#permutations\n",
    "list(permutations(iterlist, 3))"
   ]
  },
  {
   "cell_type": "code",
   "execution_count": 4,
   "metadata": {},
   "outputs": [
    {
     "data": {
      "text/plain": [
       "[(1, 3, 5),\n",
       " (1, 3, 7),\n",
       " (1, 3, 9),\n",
       " (1, 5, 7),\n",
       " (1, 5, 9),\n",
       " (1, 7, 9),\n",
       " (3, 5, 7),\n",
       " (3, 5, 9),\n",
       " (3, 7, 9),\n",
       " (5, 7, 9)]"
      ]
     },
     "execution_count": 4,
     "metadata": {},
     "output_type": "execute_result"
    }
   ],
   "source": [
    "#permutations\n",
    "list(combinations(iterlist, 3))"
   ]
  },
  {
   "cell_type": "code",
   "execution_count": 6,
   "metadata": {},
   "outputs": [
    {
     "data": {
      "text/plain": [
       "[(1, 1, 1),\n",
       " (1, 1, 3),\n",
       " (1, 1, 5),\n",
       " (1, 1, 7),\n",
       " (1, 1, 9),\n",
       " (1, 3, 1),\n",
       " (1, 3, 3),\n",
       " (1, 3, 5),\n",
       " (1, 3, 7),\n",
       " (1, 3, 9),\n",
       " (1, 5, 1),\n",
       " (1, 5, 3),\n",
       " (1, 5, 5),\n",
       " (1, 5, 7),\n",
       " (1, 5, 9),\n",
       " (1, 7, 1),\n",
       " (1, 7, 3),\n",
       " (1, 7, 5),\n",
       " (1, 7, 7),\n",
       " (1, 7, 9),\n",
       " (1, 9, 1),\n",
       " (1, 9, 3),\n",
       " (1, 9, 5),\n",
       " (1, 9, 7),\n",
       " (1, 9, 9),\n",
       " (3, 1, 1),\n",
       " (3, 1, 3),\n",
       " (3, 1, 5),\n",
       " (3, 1, 7),\n",
       " (3, 1, 9),\n",
       " (3, 3, 1),\n",
       " (3, 3, 3),\n",
       " (3, 3, 5),\n",
       " (3, 3, 7),\n",
       " (3, 3, 9),\n",
       " (3, 5, 1),\n",
       " (3, 5, 3),\n",
       " (3, 5, 5),\n",
       " (3, 5, 7),\n",
       " (3, 5, 9),\n",
       " (3, 7, 1),\n",
       " (3, 7, 3),\n",
       " (3, 7, 5),\n",
       " (3, 7, 7),\n",
       " (3, 7, 9),\n",
       " (3, 9, 1),\n",
       " (3, 9, 3),\n",
       " (3, 9, 5),\n",
       " (3, 9, 7),\n",
       " (3, 9, 9),\n",
       " (5, 1, 1),\n",
       " (5, 1, 3),\n",
       " (5, 1, 5),\n",
       " (5, 1, 7),\n",
       " (5, 1, 9),\n",
       " (5, 3, 1),\n",
       " (5, 3, 3),\n",
       " (5, 3, 5),\n",
       " (5, 3, 7),\n",
       " (5, 3, 9),\n",
       " (5, 5, 1),\n",
       " (5, 5, 3),\n",
       " (5, 5, 5),\n",
       " (5, 5, 7),\n",
       " (5, 5, 9),\n",
       " (5, 7, 1),\n",
       " (5, 7, 3),\n",
       " (5, 7, 5),\n",
       " (5, 7, 7),\n",
       " (5, 7, 9),\n",
       " (5, 9, 1),\n",
       " (5, 9, 3),\n",
       " (5, 9, 5),\n",
       " (5, 9, 7),\n",
       " (5, 9, 9),\n",
       " (7, 1, 1),\n",
       " (7, 1, 3),\n",
       " (7, 1, 5),\n",
       " (7, 1, 7),\n",
       " (7, 1, 9),\n",
       " (7, 3, 1),\n",
       " (7, 3, 3),\n",
       " (7, 3, 5),\n",
       " (7, 3, 7),\n",
       " (7, 3, 9),\n",
       " (7, 5, 1),\n",
       " (7, 5, 3),\n",
       " (7, 5, 5),\n",
       " (7, 5, 7),\n",
       " (7, 5, 9),\n",
       " (7, 7, 1),\n",
       " (7, 7, 3),\n",
       " (7, 7, 5),\n",
       " (7, 7, 7),\n",
       " (7, 7, 9),\n",
       " (7, 9, 1),\n",
       " (7, 9, 3),\n",
       " (7, 9, 5),\n",
       " (7, 9, 7),\n",
       " (7, 9, 9),\n",
       " (9, 1, 1),\n",
       " (9, 1, 3),\n",
       " (9, 1, 5),\n",
       " (9, 1, 7),\n",
       " (9, 1, 9),\n",
       " (9, 3, 1),\n",
       " (9, 3, 3),\n",
       " (9, 3, 5),\n",
       " (9, 3, 7),\n",
       " (9, 3, 9),\n",
       " (9, 5, 1),\n",
       " (9, 5, 3),\n",
       " (9, 5, 5),\n",
       " (9, 5, 7),\n",
       " (9, 5, 9),\n",
       " (9, 7, 1),\n",
       " (9, 7, 3),\n",
       " (9, 7, 5),\n",
       " (9, 7, 7),\n",
       " (9, 7, 9),\n",
       " (9, 9, 1),\n",
       " (9, 9, 3),\n",
       " (9, 9, 5),\n",
       " (9, 9, 7),\n",
       " (9, 9, 9)]"
      ]
     },
     "execution_count": 6,
     "metadata": {},
     "output_type": "execute_result"
    }
   ],
   "source": [
    "#product\n",
    "list(product(iterlist, repeat=3))"
   ]
  },
  {
   "cell_type": "code",
   "execution_count": 7,
   "metadata": {},
   "outputs": [
    {
     "data": {
      "text/plain": [
       "[(1, 1, 1),\n",
       " (1, 1, 3),\n",
       " (1, 1, 5),\n",
       " (1, 1, 7),\n",
       " (1, 1, 9),\n",
       " (1, 3, 3),\n",
       " (1, 3, 5),\n",
       " (1, 3, 7),\n",
       " (1, 3, 9),\n",
       " (1, 5, 5),\n",
       " (1, 5, 7),\n",
       " (1, 5, 9),\n",
       " (1, 7, 7),\n",
       " (1, 7, 9),\n",
       " (1, 9, 9),\n",
       " (3, 3, 3),\n",
       " (3, 3, 5),\n",
       " (3, 3, 7),\n",
       " (3, 3, 9),\n",
       " (3, 5, 5),\n",
       " (3, 5, 7),\n",
       " (3, 5, 9),\n",
       " (3, 7, 7),\n",
       " (3, 7, 9),\n",
       " (3, 9, 9),\n",
       " (5, 5, 5),\n",
       " (5, 5, 7),\n",
       " (5, 5, 9),\n",
       " (5, 7, 7),\n",
       " (5, 7, 9),\n",
       " (5, 9, 9),\n",
       " (7, 7, 7),\n",
       " (7, 7, 9),\n",
       " (7, 9, 9),\n",
       " (9, 9, 9)]"
      ]
     },
     "execution_count": 7,
     "metadata": {},
     "output_type": "execute_result"
    }
   ],
   "source": [
    "#combinations_with_replacement\n",
    "list(combinations_with_replacement(iterlist, 3))"
   ]
  },
  {
   "cell_type": "markdown",
   "metadata": {},
   "source": [
    "### heapq"
   ]
  },
  {
   "cell_type": "code",
   "execution_count": 1,
   "metadata": {},
   "outputs": [],
   "source": [
    "import heapq"
   ]
  },
  {
   "cell_type": "markdown",
   "metadata": {},
   "source": [
    "heap 구조 : ....임.\n",
    "\n",
    "파이썬에서의 heap은 min heap으로 구성."
   ]
  },
  {
   "cell_type": "code",
   "execution_count": null,
   "metadata": {},
   "outputs": [],
   "source": [
    "heapq.heappush()\n",
    "\n",
    "heapq.heappop()"
   ]
  },
  {
   "cell_type": "code",
   "execution_count": null,
   "metadata": {},
   "outputs": [],
   "source": []
  },
  {
   "cell_type": "code",
   "execution_count": null,
   "metadata": {},
   "outputs": [],
   "source": []
  },
  {
   "cell_type": "markdown",
   "metadata": {},
   "source": [
    "### bisect"
   ]
  },
  {
   "cell_type": "code",
   "execution_count": 2,
   "metadata": {},
   "outputs": [],
   "source": [
    "import bisect"
   ]
  },
  {
   "cell_type": "markdown",
   "metadata": {},
   "source": []
  },
  {
   "cell_type": "code",
   "execution_count": null,
   "metadata": {},
   "outputs": [],
   "source": []
  },
  {
   "cell_type": "code",
   "execution_count": null,
   "metadata": {},
   "outputs": [],
   "source": []
  },
  {
   "cell_type": "code",
   "execution_count": null,
   "metadata": {},
   "outputs": [],
   "source": []
  },
  {
   "cell_type": "code",
   "execution_count": null,
   "metadata": {},
   "outputs": [],
   "source": []
  },
  {
   "cell_type": "markdown",
   "metadata": {},
   "source": [
    "### collections"
   ]
  },
  {
   "cell_type": "code",
   "execution_count": 3,
   "metadata": {},
   "outputs": [],
   "source": [
    "import collections"
   ]
  },
  {
   "cell_type": "markdown",
   "metadata": {},
   "source": [
    "기본 자료형 외, 추가 자료형을 제공하는 라이브러리."
   ]
  },
  {
   "cell_type": "code",
   "execution_count": null,
   "metadata": {},
   "outputs": [],
   "source": [
    "# deque\n",
    "from collections import deque"
   ]
  },
  {
   "cell_type": "code",
   "execution_count": null,
   "metadata": {},
   "outputs": [],
   "source": []
  },
  {
   "cell_type": "code",
   "execution_count": 4,
   "metadata": {},
   "outputs": [],
   "source": [
    "# Counter\n",
    "from collections import Counter"
   ]
  },
  {
   "cell_type": "code",
   "execution_count": null,
   "metadata": {},
   "outputs": [],
   "source": []
  },
  {
   "cell_type": "code",
   "execution_count": null,
   "metadata": {},
   "outputs": [],
   "source": []
  },
  {
   "cell_type": "code",
   "execution_count": null,
   "metadata": {},
   "outputs": [],
   "source": []
  },
  {
   "cell_type": "code",
   "execution_count": null,
   "metadata": {},
   "outputs": [],
   "source": []
  },
  {
   "cell_type": "code",
   "execution_count": null,
   "metadata": {},
   "outputs": [],
   "source": []
  },
  {
   "cell_type": "code",
   "execution_count": null,
   "metadata": {},
   "outputs": [],
   "source": []
  },
  {
   "cell_type": "code",
   "execution_count": null,
   "metadata": {},
   "outputs": [],
   "source": []
  },
  {
   "cell_type": "code",
   "execution_count": null,
   "metadata": {},
   "outputs": [],
   "source": []
  },
  {
   "cell_type": "code",
   "execution_count": null,
   "metadata": {},
   "outputs": [],
   "source": []
  },
  {
   "cell_type": "code",
   "execution_count": null,
   "metadata": {},
   "outputs": [],
   "source": []
  },
  {
   "cell_type": "code",
   "execution_count": null,
   "metadata": {},
   "outputs": [],
   "source": []
  },
  {
   "cell_type": "code",
   "execution_count": null,
   "metadata": {},
   "outputs": [],
   "source": []
  },
  {
   "cell_type": "code",
   "execution_count": null,
   "metadata": {},
   "outputs": [],
   "source": []
  },
  {
   "cell_type": "code",
   "execution_count": null,
   "metadata": {},
   "outputs": [],
   "source": []
  },
  {
   "cell_type": "markdown",
   "metadata": {},
   "source": [
    "### math"
   ]
  },
  {
   "cell_type": "code",
   "execution_count": 9,
   "metadata": {},
   "outputs": [],
   "source": [
    "import math"
   ]
  },
  {
   "cell_type": "code",
   "execution_count": 10,
   "metadata": {},
   "outputs": [
    {
     "data": {
      "text/plain": [
       "120"
      ]
     },
     "execution_count": 10,
     "metadata": {},
     "output_type": "execute_result"
    }
   ],
   "source": [
    "math.factorial(5)"
   ]
  },
  {
   "cell_type": "code",
   "execution_count": 12,
   "metadata": {},
   "outputs": [
    {
     "data": {
      "text/plain": [
       "2.6457513110645907"
      ]
     },
     "execution_count": 12,
     "metadata": {},
     "output_type": "execute_result"
    }
   ],
   "source": [
    "math.sqrt(7)"
   ]
  },
  {
   "cell_type": "code",
   "execution_count": 13,
   "metadata": {},
   "outputs": [
    {
     "data": {
      "text/plain": [
       "3"
      ]
     },
     "execution_count": 13,
     "metadata": {},
     "output_type": "execute_result"
    }
   ],
   "source": [
    "math.gcd(3, 6)"
   ]
  },
  {
   "cell_type": "code",
   "execution_count": 14,
   "metadata": {},
   "outputs": [
    {
     "data": {
      "text/plain": [
       "35"
      ]
     },
     "execution_count": 14,
     "metadata": {},
     "output_type": "execute_result"
    }
   ],
   "source": [
    "math.lcm(5, 7)"
   ]
  },
  {
   "cell_type": "code",
   "execution_count": 15,
   "metadata": {},
   "outputs": [
    {
     "data": {
      "text/plain": [
       "3.141592653589793"
      ]
     },
     "execution_count": 15,
     "metadata": {},
     "output_type": "execute_result"
    }
   ],
   "source": [
    "math.pi"
   ]
  },
  {
   "cell_type": "code",
   "execution_count": 16,
   "metadata": {},
   "outputs": [
    {
     "data": {
      "text/plain": [
       "2.718281828459045"
      ]
     },
     "execution_count": 16,
     "metadata": {},
     "output_type": "execute_result"
    }
   ],
   "source": [
    "math.e"
   ]
  },
  {
   "cell_type": "code",
   "execution_count": 17,
   "metadata": {},
   "outputs": [
    {
     "data": {
      "text/plain": [
       "3.0"
      ]
     },
     "execution_count": 17,
     "metadata": {},
     "output_type": "execute_result"
    }
   ],
   "source": [
    "math.log10(1000)"
   ]
  },
  {
   "cell_type": "code",
   "execution_count": null,
   "metadata": {},
   "outputs": [],
   "source": []
  },
  {
   "cell_type": "code",
   "execution_count": null,
   "metadata": {},
   "outputs": [],
   "source": []
  },
  {
   "cell_type": "code",
   "execution_count": null,
   "metadata": {},
   "outputs": [],
   "source": []
  },
  {
   "cell_type": "code",
   "execution_count": null,
   "metadata": {},
   "outputs": [],
   "source": []
  }
 ],
 "metadata": {
  "kernelspec": {
   "display_name": "Python 3",
   "language": "python",
   "name": "python3"
  },
  "language_info": {
   "codemirror_mode": {
    "name": "ipython",
    "version": 3
   },
   "file_extension": ".py",
   "mimetype": "text/x-python",
   "name": "python",
   "nbconvert_exporter": "python",
   "pygments_lexer": "ipython3",
   "version": "3.12.3"
  }
 },
 "nbformat": 4,
 "nbformat_minor": 2
}
