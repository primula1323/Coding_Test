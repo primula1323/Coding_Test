{
 "cells": [
  {
   "cell_type": "markdown",
   "metadata": {},
   "source": [
    "## 2단원 연습문제"
   ]
  },
  {
   "cell_type": "markdown",
   "metadata": {},
   "source": [
    "### 01"
   ]
  },
  {
   "cell_type": "code",
   "execution_count": 1,
   "metadata": {},
   "outputs": [],
   "source": [
    "def cal(n) :\n",
    "    if n == 1 :\n",
    "        return 0\n",
    "    else :\n",
    "        return cal(n-1)*5 + 3"
   ]
  },
  {
   "cell_type": "code",
   "execution_count": 5,
   "metadata": {},
   "outputs": [
    {
     "name": "stdout",
     "output_type": "stream",
     "text": [
      "0 3 18 93 468 2343 11718 58593 292968 1464843 "
     ]
    }
   ],
   "source": [
    "for i in range(1, 11) :\n",
    "    print(cal(i), end = ' ')"
   ]
  },
  {
   "cell_type": "markdown",
   "metadata": {},
   "source": [
    "### 02 ~ 05"
   ]
  },
  {
   "cell_type": "code",
   "execution_count": 8,
   "metadata": {},
   "outputs": [],
   "source": [
    "def seq(n) :\n",
    "    print('*', end = ' ')\n",
    "    if n == 1 :\n",
    "        return 1\n",
    "    else :\n",
    "        return seq(n-1) + 3"
   ]
  },
  {
   "cell_type": "code",
   "execution_count": 11,
   "metadata": {},
   "outputs": [
    {
     "name": "stdout",
     "output_type": "stream",
     "text": [
      "* 1번째 실행 : 1\n",
      "* * 2번째 실행 : 4\n",
      "* * * 3번째 실행 : 7\n",
      "* * * * 4번째 실행 : 10\n",
      "* * * * * 5번째 실행 : 13\n",
      "* * * * * * 6번째 실행 : 16\n",
      "* * * * * * * 7번째 실행 : 19\n",
      "* * * * * * * * 8번째 실행 : 22\n",
      "* * * * * * * * * 9번째 실행 : 25\n",
      "* * * * * * * * * * 10번째 실행 : 28\n"
     ]
    }
   ],
   "source": [
    "for i in range(1, 11) :\n",
    "    print(f'{i}번째 실행 : {seq(i)}')"
   ]
  },
  {
   "cell_type": "code",
   "execution_count": 12,
   "metadata": {},
   "outputs": [],
   "source": [
    "def fib(n) :\n",
    "    print('*', end = ' ') \n",
    "    if n == 1 or n == 2 :\n",
    "        return 1\n",
    "    else :\n",
    "        return fib(n-1) + fib(n - 2)"
   ]
  },
  {
   "cell_type": "code",
   "execution_count": 14,
   "metadata": {},
   "outputs": [
    {
     "name": "stdout",
     "output_type": "stream",
     "text": [
      "* 1번째 실행 : 1\n",
      "* 2번째 실행 : 1\n",
      "* * * 3번째 실행 : 2\n",
      "* * * * * 4번째 실행 : 3\n",
      "* * * * * * * * * 5번째 실행 : 5\n",
      "* * * * * * * * * * * * * * * 6번째 실행 : 8\n",
      "* * * * * * * * * * * * * * * * * * * * * * * * * 7번째 실행 : 13\n",
      "* * * * * * * * * * * * * * * * * * * * * * * * * * * * * * * * * * * * * * * * * 8번째 실행 : 21\n",
      "* * * * * * * * * * * * * * * * * * * * * * * * * * * * * * * * * * * * * * * * * * * * * * * * * * * * * * * * * * * * * * * * * * * 9번째 실행 : 34\n",
      "* * * * * * * * * * * * * * * * * * * * * * * * * * * * * * * * * * * * * * * * * * * * * * * * * * * * * * * * * * * * * * * * * * * * * * * * * * * * * * * * * * * * * * * * * * * * * * * * * * * * * * * * * * * * * 10번째 실행 : 55\n"
     ]
    }
   ],
   "source": [
    "for i in range(1, 11) :\n",
    "    print(f'{i}번째 실행 : {fib(i)}')"
   ]
  },
  {
   "cell_type": "code",
   "execution_count": null,
   "metadata": {},
   "outputs": [],
   "source": [
    "def move(n, a, b, c) :\n",
    "    if n > 0 :\n",
    "        move(n-1, a, c, b)"
   ]
  },
  {
   "cell_type": "code",
   "execution_count": 54,
   "metadata": {},
   "outputs": [],
   "source": [
    "def selectionSort(lst : list) :\n",
    "    print('*', end = ' ')\n",
    "    n = len(lst)\n",
    "    if n == 1 :\n",
    "        return lst\n",
    "    else :\n",
    "        idx, maxi = lst.index(max(lst)), max(lst)\n",
    "        lst.pop(idx)\n",
    "        lst.append(maxi)\n",
    "        rlst = selectionSort(lst[0:n-1])\n",
    "        rlst.append(maxi)\n",
    "        return rlst"
   ]
  },
  {
   "cell_type": "code",
   "execution_count": 55,
   "metadata": {},
   "outputs": [
    {
     "name": "stdout",
     "output_type": "stream",
     "text": [
      "* * * * * "
     ]
    },
    {
     "data": {
      "text/plain": [
       "[1, 2, 3, 5, 8]"
      ]
     },
     "execution_count": 55,
     "metadata": {},
     "output_type": "execute_result"
    }
   ],
   "source": [
    "selectionSort([1, 5, 3, 2, 8])"
   ]
  },
  {
   "cell_type": "code",
   "execution_count": 31,
   "metadata": {},
   "outputs": [
    {
     "data": {
      "text/plain": [
       "[1, 5, 2, 8, 3]"
      ]
     },
     "execution_count": 31,
     "metadata": {},
     "output_type": "execute_result"
    }
   ],
   "source": [
    "lst = [1, 5, 3, 2, 8]\n",
    "lst.append(lst.pop(2))\n",
    "lst[:]"
   ]
  },
  {
   "cell_type": "code",
   "execution_count": 56,
   "metadata": {},
   "outputs": [
    {
     "name": "stdout",
     "output_type": "stream",
     "text": [
      "* * * "
     ]
    },
    {
     "data": {
      "text/plain": [
       "[1, 3, 4]"
      ]
     },
     "execution_count": 56,
     "metadata": {},
     "output_type": "execute_result"
    }
   ],
   "source": [
    "selectionSort([1, 4, 3])"
   ]
  },
  {
   "cell_type": "markdown",
   "metadata": {},
   "source": [
    "## 4단원"
   ]
  },
  {
   "cell_type": "markdown",
   "metadata": {},
   "source": [
    "### Linked List"
   ]
  },
  {
   "cell_type": "code",
   "execution_count": 2,
   "metadata": {},
   "outputs": [],
   "source": [
    "class ListNode :\n",
    "    def __init__(self, newItem, nextNode:'ListNode') :\n",
    "        self.item = newItem\n",
    "        self.next = nextNode"
   ]
  },
  {
   "cell_type": "code",
   "execution_count": null,
   "metadata": {},
   "outputs": [],
   "source": [
    "# 삽입\n",
    "if i == 0 :\n",
    "    newNode.item = x # 새 노드 준비. x로 초기화.\n",
    "    newNode.next = __head # 새 노드가 다음으로 가리키는 걸 Linked List의 첫 노드로 지정(뒤 노드)\n",
    "    __head = newNode # Linked List의 맨 앞을 새 노드로 지정\n",
    "    __numItems += 1 # 아이템의 수 1 더하기  \n",
    "else :\n",
    "    newNode.item = x\n",
    "    newNode.next = prev.next #더미 헤드 추가시 뒤쪽 코드만으로 충분.\n",
    "    prev.next = newNode\n",
    "    __numItems += 1"
   ]
  },
  {
   "cell_type": "code",
   "execution_count": null,
   "metadata": {},
   "outputs": [],
   "source": [
    "# 삭제\n",
    "if i == 0 :\n",
    "    __head = __head.next\n",
    "    __numItems -+ 1\n",
    "else :\n",
    "    prev.next = prev.next.next # 직전 노드가 가리키는 '바로 다음 노드'가 지금 노드의 다음 노드가 되게 하기\n",
    "    __numItems -= 1"
   ]
  },
  {
   "cell_type": "code",
   "execution_count": null,
   "metadata": {},
   "outputs": [],
   "source": [
    "# 검색\n"
   ]
  },
  {
   "cell_type": "code",
   "execution_count": null,
   "metadata": {},
   "outputs": [],
   "source": []
  },
  {
   "cell_type": "code",
   "execution_count": 3,
   "metadata": {},
   "outputs": [],
   "source": [
    "# 최종 구현\n",
    "class ListNode :\n",
    "    def __init__(self, newItem, nextNode:'ListNode') :\n",
    "        self.item = newItem\n",
    "        self.next = nextNode\n",
    "\n",
    "class LinkedListBasic :\n",
    "    def __init__(self) :\n",
    "        self.__head = ListNode('dummy', None) # 노드의 시작은 더미 노드\n",
    "        self.__numItems = 0 # 총 아이템 수 : 0개.\n",
    "\n",
    "    def __getNode(self, idx : int) -> ListNode :\n",
    "        '''\n",
    "        Linked List의 index로부터 그 자리에 있는 value를 찾는 함수. 이 구현이 비효율적인 이유. \n",
    "        인덱스에 해당하는 노드를 찾아가기 위해 모든 노드를 방문해야 하고, 이 함수를 많은 작업에서 쓰니까.\n",
    "        '''\n",
    "        curr = self.__head #head에서 시작\n",
    "        for i in range(0, idx+1) :\n",
    "            curr = curr.next\n",
    "        return curr\n",
    "\n",
    "    def __findNode(self, x) -> ListNode :\n",
    "        '''\n",
    "        node의 value x로부터 그 x가 담긴 인덱스를 찾는 함수.\n",
    "        '''\n",
    "        prev = self.__head\n",
    "        curr = prev.next\n",
    "        while curr != None :\n",
    "            if curr.item == x :\n",
    "                return prev, curr\n",
    "            else :\n",
    "                prev = curr\n",
    "                curr = curr.next\n",
    "        return None, None\n",
    "\n",
    "    def insert(self, idx : int, newItem) :\n",
    "        if idx >= 0 and idx <= self.__numItems :\n",
    "            prev = self.__getNode(idx-1)\n",
    "            newNode = ListNode(newItem, prev.next)\n",
    "            prev.next = newNode\n",
    "            self.__numItems += 1\n",
    "        else : print(f'index {idx} : out of bound')\n",
    "\n",
    "    def append(self, newItem) :\n",
    "        prev = self.__getNode(self.__numItems-1)\n",
    "        newNode = ListNode(newItem, prev.next)\n",
    "        prev.next = newNode\n",
    "        self.__numItems += 1\n",
    "\n",
    "    def pop(self, idx) :\n",
    "        if idx >= 0 and idx <= self.__numItems-1 :\n",
    "            prev = self.__getNode(idx - 1) \n",
    "            curr = prev.next\n",
    "            prev.next = prev.next.next\n",
    "            returnItem = curr.item\n",
    "            self.__numItems -= 1\n",
    "            return returnItem\n",
    "        else :\n",
    "            return None\n",
    "        \n",
    "    def remove(self, x) :\n",
    "        prev, curr = self.__findNode(x)\n",
    "        if curr != None :\n",
    "            prev.next = curr.next\n",
    "            self.__numItems -= 1\n",
    "\n",
    "    def get(self, idx : int) :\n",
    "        if self.isEmpty() :\n",
    "            return None\n",
    "        else :\n",
    "            if idx >= 0 and idx <= self.__numItems-1 :\n",
    "                return self.__getNode(idx).item\n",
    "            else :\n",
    "                return None\n",
    "            \n",
    "    def index(self, x) -> int :\n",
    "        curr = self.__head.next\n",
    "        for i in range(0, self.__numItems) :\n",
    "            if curr.item == x :\n",
    "                return i\n",
    "            else :\n",
    "                curr = curr.next\n",
    "        return -987654321\n",
    "    \n",
    "    def isEmpty(self) :\n",
    "        return self.__numItems == 0\n",
    "    \n",
    "    def size(self) :\n",
    "        return self.__numItems\n",
    "    \n",
    "    def clear(self) :\n",
    "        self.__head = ListNode('dummy', None)\n",
    "        self.__numItems = 0\n",
    "\n",
    "    def count(self, x) :\n",
    "        cnt = 0\n",
    "        curr = self.__head\n",
    "        while curr != None :\n",
    "            if curr.item == x :\n",
    "                cnt += 1\n",
    "                curr = curr.next\n",
    "            else :\n",
    "                curr = curr.next\n",
    "        return cnt\n",
    "    \n",
    "    def extend(self, a) :\n",
    "        for idx in range(0, a.size()) :\n",
    "            self.append(a.get(idx)) \n",
    "\n",
    "    def copy(self) :\n",
    "        a = LinkedListBasic() #LL 초기화. 이로 인해 a의 __numItems는 0, a.__head는 'dummy'로 맞춰짐.\n",
    "        for i in range(0, self.__numItems) :\n",
    "            a.append(self.get(i))\n",
    "        return a\n",
    "    \n",
    "    def reverse(self) :\n",
    "        a = LinkedListBasic()\n",
    "        for i in range(0, self.__numItems) :\n",
    "            a.insert(0, self.get(i)) \n",
    "        self.clear()\n",
    "        for i in range(a.size()) :\n",
    "            self.append(a.get(i))\n",
    "\n",
    "    def sort(self) :\n",
    "        a = []\n",
    "        for i in range(0, self.__numItems) :\n",
    "            a.append(self.get(i)) \n",
    "        a.sort()\n",
    "        self.clear()\n",
    "        for i in range(0, len(a)) :\n",
    "            self.append(a[i])"
   ]
  },
  {
   "cell_type": "code",
   "execution_count": null,
   "metadata": {},
   "outputs": [],
   "source": []
  },
  {
   "cell_type": "code",
   "execution_count": null,
   "metadata": {},
   "outputs": [],
   "source": []
  },
  {
   "cell_type": "code",
   "execution_count": null,
   "metadata": {},
   "outputs": [],
   "source": []
  },
  {
   "cell_type": "code",
   "execution_count": null,
   "metadata": {},
   "outputs": [],
   "source": []
  },
  {
   "cell_type": "markdown",
   "metadata": {},
   "source": []
  },
  {
   "cell_type": "markdown",
   "metadata": {},
   "source": []
  }
 ],
 "metadata": {
  "kernelspec": {
   "display_name": "Python 3",
   "language": "python",
   "name": "python3"
  },
  "language_info": {
   "codemirror_mode": {
    "name": "ipython",
    "version": 3
   },
   "file_extension": ".py",
   "mimetype": "text/x-python",
   "name": "python",
   "nbconvert_exporter": "python",
   "pygments_lexer": "ipython3",
   "version": "3.12.3"
  }
 },
 "nbformat": 4,
 "nbformat_minor": 2
}
